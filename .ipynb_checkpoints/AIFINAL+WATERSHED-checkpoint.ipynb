{
 "cells": [
  {
   "cell_type": "code",
   "execution_count": 1,
   "metadata": {},
   "outputs": [],
   "source": [
    "import cv2\n",
    "import numpy as np\n",
    "import os\n",
    "from myshow import myshow\n",
    "import glob\n",
    "import mahotas as mt\n",
    "import SimpleITK\n",
    "from wate\n",
    "import matplotlib.pyplot as plt\n",
    "import watershedalgo\n",
    "import em\n",
    "import superpixelsegmentation"
   ]
  },
  {
   "cell_type": "code",
   "execution_count": 2,
   "metadata": {},
   "outputs": [
    {
     "name": "stdout",
     "output_type": "stream",
     "text": [
      "['brats_2013_pat0001_1', 'brats_2013_pat0002_1', 'brats_2013_pat0003_1', 'brats_2013_pat0004_1', 'brats_2013_pat0005_1', 'brats_2013_pat0006_1', 'brats_2013_pat0007_1', 'brats_2013_pat0008_1', 'brats_2013_pat0009_1', 'brats_2013_pat0010_1', 'brats_2013_pat0011_1', 'brats_2013_pat0012_1', 'brats_2013_pat0013_1', 'brats_2013_pat0014_1', 'brats_2013_pat0015_1', 'brats_2013_pat0022_1', 'brats_2013_pat0024_1', 'brats_2013_pat0025_1', 'brats_2013_pat0026_1', 'brats_2013_pat0027_1', 'brats_tcia_pat105_0001', 'brats_tcia_pat111_0001', 'brats_tcia_pat113_0001', 'brats_tcia_pat117_0001', 'brats_tcia_pat118_0001', 'brats_tcia_pat120_0001', 'brats_tcia_pat121_0001', 'brats_tcia_pat124_0003', 'brats_tcia_pat131_0001', 'brats_tcia_pat133_0001', 'brats_tcia_pat135_0001', 'brats_tcia_pat138_0001', 'brats_tcia_pat147_0001', 'brats_tcia_pat149_0001', 'brats_tcia_pat150_0001', 'brats_tcia_pat151_0001', 'brats_tcia_pat153_0002', 'brats_tcia_pat153_0109', 'brats_tcia_pat153_0165', 'brats_tcia_pat153_0181', 'brats_tcia_pat153_0277', 'brats_tcia_pat153_0294', 'brats_tcia_pat156_0001', 'brats_tcia_pat157_0001', 'brats_tcia_pat162_0001', 'brats_tcia_pat164_0001', 'brats_tcia_pat165_0001', 'brats_tcia_pat167_0001', 'brats_tcia_pat168_0001', 'brats_tcia_pat170_0002']\n"
     ]
    }
   ],
   "source": [
    "train_path = \"C:/Users/saree/Desktop/AI PROJECT/BRATS2015/training/HGG\"\n",
    "train_names = os.listdir(train_path) \n",
    "print(train_names)"
   ]
  },
  {
   "cell_type": "code",
   "execution_count": 3,
   "metadata": {},
   "outputs": [],
   "source": [
    "train_features = []\n",
    "train_labels = []"
   ]
  },
  {
   "cell_type": "code",
   "execution_count": 4,
   "metadata": {},
   "outputs": [],
   "source": [
    "def extract_features(image):\n",
    "    textures = mt.features.haralick(image)\n",
    "    ht_mean = textures.mean(axis=0) \n",
    "    return ht_mean "
   ]
  },
  {
   "cell_type": "code",
   "execution_count": 5,
   "metadata": {},
   "outputs": [
    {
     "name": "stdout",
     "output_type": "stream",
     "text": [
      "[STATUS] Started extracting haralick textures..\n"
     ]
    },
    {
     "name": "stderr",
     "output_type": "stream",
     "text": [
      "c:\\python\\python36\\lib\\site-packages\\matplotlib\\figure.py:2369: UserWarning: This figure includes Axes that are not compatible with tight_layout, so results might be incorrect.\n",
      "  warnings.warn(\"This figure includes Axes that are not compatible \"\n"
     ]
    },
    {
     "data": {
      "image/png": "[encoded data removed]",
      "text/plain": [
       "<Figure size 252x252 with 1 Axes>"
      ]
     },
     "metadata": {
      "needs_background": "light"
     },
     "output_type": "display_data"
    },
    {
     "ename": "NameError",
     "evalue": "name 'watershed_try' is not defined",
     "output_type": "error",
     "traceback": [
      "\u001b[1;31m---------------------------------------------------------------------------\u001b[0m",
      "\u001b[1;31mNameError\u001b[0m                                 Traceback (most recent call last)",
      "\u001b[1;32m<ipython-input-5-5c91bc953b00>\u001b[0m in \u001b[0;36m<module>\u001b[1;34m\u001b[0m\n\u001b[0;32m     17\u001b[0m         \u001b[1;32mif\u001b[0m \u001b[0mcount\u001b[0m\u001b[1;33m%\u001b[0m\u001b[1;36m5\u001b[0m\u001b[1;33m==\u001b[0m\u001b[1;36m0\u001b[0m\u001b[1;33m:\u001b[0m\u001b[1;33m\u001b[0m\u001b[0m\n\u001b[0;32m     18\u001b[0m             \u001b[0mmyshow\u001b[0m\u001b[1;33m(\u001b[0m\u001b[0mimgT1Original\u001b[0m\u001b[1;33m)\u001b[0m\u001b[1;33m\u001b[0m\u001b[0m\n\u001b[1;32m---> 19\u001b[1;33m             \u001b[0mwatershed_try\u001b[0m\u001b[1;33m(\u001b[0m\u001b[0mimgT1Original\u001b[0m\u001b[1;33m)\u001b[0m\u001b[1;33m\u001b[0m\u001b[0m\n\u001b[0m\u001b[0;32m     20\u001b[0m \u001b[1;33m\u001b[0m\u001b[0m\n\u001b[0;32m     21\u001b[0m         \u001b[1;31m#seg = cv2.imread(\"seg.jpg\")\u001b[0m\u001b[1;33m\u001b[0m\u001b[1;33m\u001b[0m\u001b[0m\n",
      "\u001b[1;31mNameError\u001b[0m: name 'watershed_try' is not defined"
     ]
    }
   ],
   "source": [
    "i = 1\n",
    "idxSlice = 50\n",
    "count = 1\n",
    "print(\"[STATUS] Started extracting haralick textures..\")\n",
    "for train_name in train_names:\n",
    "     cur_path = train_path + \"/\" + train_name\n",
    "     cur_label = 1\n",
    "     i = 1\n",
    "     count+=1\n",
    "     for fileName in glob.glob(cur_path + \"/*.mha\"): \n",
    "        #print(\"Processing Image - {} in {}\".format(i, cur_label))\n",
    "        \n",
    "        imgT1Original = SimpleITK.ReadImage(fileName)\n",
    "        \n",
    "        image = SimpleITK.GetArrayFromImage(SimpleITK.Tile(imgT1Original[:, :, idxSlice],(2, 1, 0)))\n",
    "        \n",
    "        if count%5==0:\n",
    "            myshow(imgT1Original)\n",
    "            watershed_try(imgT1Original)\n",
    "        \n",
    "        #seg = cv2.imread(\"seg.jpg\")\n",
    "        #image = np.uint8(image) \n",
    "        #image = cv2.cvtColor(image, cv2.COLOR_GRAY2BGR)\n",
    "        \n",
    "        \n",
    "        features = extract_features(image) \n",
    "        train_features.append(features)\n",
    "        train_labels.append(cur_label)\n",
    "        i += 1 "
   ]
  },
  {
   "cell_type": "code",
   "execution_count": null,
   "metadata": {},
   "outputs": [],
   "source": []
  }
 ],
 "metadata": {
  "kernelspec": {
   "display_name": "Python 3",
   "language": "python",
   "name": "python3"
  },
  "language_info": {
   "codemirror_mode": {
    "name": "ipython",
    "version": 3
   },
   "file_extension": ".py",
   "mimetype": "text/x-python",
   "name": "python",
   "nbconvert_exporter": "python",
   "pygments_lexer": "ipython3",
   "version": "3.6.4"
  }
 },
 "nbformat": 4,
 "nbformat_minor": 2
}
